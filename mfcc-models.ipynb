{
 "cells": [
  {
   "cell_type": "markdown",
   "metadata": {},
   "source": [
    "# MFCC Features and Simple Classifiers"
   ]
  },
  {
   "cell_type": "code",
   "execution_count": 41,
   "metadata": {},
   "outputs": [],
   "source": [
    "%matplotlib inline\n",
    "\n",
    "import os\n",
    "import numpy as np\n",
    "import pandas as pd\n",
    "import matplotlib.pyplot as plt\n",
    "import seaborn as sns\n",
    "\n",
    "import sklearn as skl\n",
    "import sklearn.utils, sklearn.preprocessing, sklearn.decomposition, \n",
    "    sklearn.svm, sklearn.ensemble, sklearn.linear_model\n",
    "from sklearn.metrics import f1_score\n",
    "\n",
    "import librosa\n",
    "import librosa.display\n",
    "from IPython import display\n",
    "\n",
    "METADATA_PATH = 'dataset/FMA/fma_metadata/'"
   ]
  },
  {
   "cell_type": "code",
   "execution_count": 26,
   "metadata": {},
   "outputs": [],
   "source": [
    "def load_metadata(path):\n",
    "    tracks = pd.read_csv(os.path.join(METADATA_PATH, \"tracks.csv\"), index_col=0, header=[0, 1])\n",
    "    keep_cols = [('set', 'split'), ('set', 'subset'), ('track', 'genre_top')]\n",
    "    tracks = tracks[keep_cols]\n",
    "    \n",
    "    features = pd.read_csv(os.path.join(METADATA_PATH, \"features.csv\"), index_col=0, header=[0, 1, 2], skip_blank_lines=True)\n",
    "    return tracks, features\n",
    "\n",
    "def setup_data(tracks, features):\n",
    "    small = tracks['set', 'subset'] == 'small'\n",
    "    \n",
    "    train = tracks['set', 'split'] == 'training'\n",
    "    val = tracks['set', 'split'] == 'validation'\n",
    "    test = tracks['set', 'split'] == 'test'\n",
    "    \n",
    "    y_train = tracks.loc[small & train, ('track', 'genre_top')]\n",
    "    y_val = tracks.loc[small & val, ('track', 'genre_top')]\n",
    "    y_test = tracks.loc[small & test, ('track', 'genre_top')]\n",
    "\n",
    "    X_train = features.loc[small & train, 'mfcc']\n",
    "    X_val = features.loc[small & val, 'mfcc']\n",
    "    X_test = features.loc[small & test, 'mfcc']\n",
    "    \n",
    "    # Shuffle training data\n",
    "    X_train, y_train = skl.utils.shuffle(X_train, y_train)\n",
    "    \n",
    "    # Standardize features - remove mean and scale accordingly\n",
    "    standardize = skl.preprocessing.StandardScaler(copy=False)\n",
    "    X_train = standardize.fit_transform(X_train)\n",
    "    X_val = standardize.fit_transform(X_val)\n",
    "    X_test = standardize.fit_transform(X_test)\n",
    "    \n",
    "    # Label encode outputs\n",
    "    le = skl.preprocessing.LabelEncoder()\n",
    "    y_train = le.fit_transform(y_train)\n",
    "    y_val = le.fit_transform(y_val)\n",
    "    y_test = le.fit_transform(y_test)\n",
    "    \n",
    "    return X_train, y_train, X_val, y_val, X_test, y_test\n",
    "\n",
    "def train(c, X_train, y_train):\n",
    "    c.fit(X_train, y_train)\n",
    "\n",
    "def predict(c, X_test):\n",
    "    y_pred = c.predict(X_test)\n",
    "    return y_pred"
   ]
  },
  {
   "cell_type": "code",
   "execution_count": null,
   "metadata": {},
   "outputs": [],
   "source": [
    "tracks, features = load_metadata(METADATA_PATH)"
   ]
  },
  {
   "cell_type": "code",
   "execution_count": 24,
   "metadata": {},
   "outputs": [
    {
     "name": "stdout",
     "output_type": "stream",
     "text": [
      "['Electronic' 'Experimental' 'Folk' 'Hip-Hop' 'Instrumental'\n",
      " 'International' 'Pop' 'Rock']\n",
      "(6400, 140)\n",
      "(800, 140)\n",
      "(800, 140)\n"
     ]
    }
   ],
   "source": [
    "X_train, y_train, X_val, y_val, X_test, y_test = setup_data(tracks, features)\n",
    "print(X_train.shape)\n",
    "print(X_val.shape)\n",
    "print(X_test.shape)"
   ]
  },
  {
   "cell_type": "code",
   "execution_count": 37,
   "metadata": {},
   "outputs": [
    {
     "name": "stdout",
     "output_type": "stream",
     "text": [
      "SVC - F1 scores:\n",
      "Train: 0.7581\n",
      "Valid: 0.5450\n",
      "Test: 0.4650\n"
     ]
    }
   ],
   "source": [
    "# SVC\n",
    "c_svc = skl.svm.SVC()\n",
    "train(c_svc, X_train, y_train)\n",
    "y_pred_train = predict(c_svc, X_train)\n",
    "y_pred_val = predict(c_svc, X_val)\n",
    "y_pred_test = predict(c_svc, X_test)\n",
    "print(\"SVC - F1 scores:\")\n",
    "print(\"Train: {:.4f}\".format(f1_score(y_train, y_pred_train, average='micro', pos_label=1)))\n",
    "print(\"Valid: {:.4f}\".format(f1_score(y_val, y_pred_val, average='micro', pos_label=1)))\n",
    "print(\"Test: {:.4f}\".format(f1_score(y_test, y_pred_test, average='micro', pos_label=1)))"
   ]
  },
  {
   "cell_type": "code",
   "execution_count": 42,
   "metadata": {},
   "outputs": [
    {
     "name": "stdout",
     "output_type": "stream",
     "text": [
      "Random Forests - F1 scores:\n",
      "Train: 0.9250\n",
      "Valid: 0.5225\n",
      "Test: 0.4437\n"
     ]
    }
   ],
   "source": [
    "# Random Forests\n",
    "c_rf = skl.ensemble.RandomForestClassifier(random_state=10, max_depth=30, n_estimators=300, min_samples_leaf=6, min_impurity_decrease=0.0002, \n",
    "                                           class_weight='balanced')\n",
    "train(c_rf, X_train, y_train)\n",
    "y_pred_train = predict(c_rf, X_train)\n",
    "y_pred_val = predict(c_rf, X_val)\n",
    "y_pred_test = predict(c_rf, X_test)\n",
    "print(\"Random Forests - F1 scores:\")\n",
    "print(\"Train: {:.4f}\".format(f1_score(y_train, y_pred_train, average='micro', pos_label=1)))\n",
    "print(\"Valid: {:.4f}\".format(f1_score(y_val, y_pred_val, average='micro', pos_label=1)))\n",
    "print(\"Test: {:.4f}\".format(f1_score(y_test, y_pred_test, average='micro', pos_label=1)))"
   ]
  },
  {
   "cell_type": "code",
   "execution_count": 44,
   "metadata": {},
   "outputs": [
    {
     "name": "stderr",
     "output_type": "stream",
     "text": [
      "/usr/local/lib/python3.7/site-packages/sklearn/linear_model/logistic.py:432: FutureWarning: Default solver will be changed to 'lbfgs' in 0.22. Specify a solver to silence this warning.\n",
      "  FutureWarning)\n",
      "/usr/local/lib/python3.7/site-packages/sklearn/linear_model/logistic.py:469: FutureWarning: Default multi_class will be changed to 'auto' in 0.22. Specify the multi_class option to silence this warning.\n",
      "  \"this warning.\", FutureWarning)\n"
     ]
    },
    {
     "name": "stdout",
     "output_type": "stream",
     "text": [
      "Logistic Regression - F1 scores:\n",
      "Train: 0.5620\n",
      "Valid: 0.4863\n",
      "Test: 0.4025\n"
     ]
    }
   ],
   "source": [
    "# Logistic Regression\n",
    "c_lr = skl.linear_model.LogisticRegression()\n",
    "train(c_lr, X_train, y_train)\n",
    "y_pred_train = predict(c_lr, X_train)\n",
    "y_pred_val = predict(c_lr, X_val)\n",
    "y_pred_test = predict(c_lr, X_test)\n",
    "print(\"Logistic Regression - F1 scores:\")\n",
    "print(\"Train: {:.4f}\".format(f1_score(y_train, y_pred_train, average='micro', pos_label=1)))\n",
    "print(\"Valid: {:.4f}\".format(f1_score(y_val, y_pred_val, average='micro', pos_label=1)))\n",
    "print(\"Test: {:.4f}\".format(f1_score(y_test, y_pred_test, average='micro', pos_label=1)))"
   ]
  },
  {
   "cell_type": "code",
   "execution_count": null,
   "metadata": {},
   "outputs": [],
   "source": []
  }
 ],
 "metadata": {
  "kernelspec": {
   "display_name": "Python 3",
   "language": "python",
   "name": "python3"
  },
  "language_info": {
   "codemirror_mode": {
    "name": "ipython",
    "version": 3
   },
   "file_extension": ".py",
   "mimetype": "text/x-python",
   "name": "python",
   "nbconvert_exporter": "python",
   "pygments_lexer": "ipython3",
   "version": "3.7.1"
  }
 },
 "nbformat": 4,
 "nbformat_minor": 2
}
