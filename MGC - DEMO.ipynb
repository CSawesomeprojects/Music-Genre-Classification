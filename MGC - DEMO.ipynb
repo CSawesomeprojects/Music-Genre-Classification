{
 "cells": [
  {
   "cell_type": "code",
   "execution_count": 26,
   "metadata": {},
   "outputs": [],
   "source": [
    "import ipywidgets as widgets\n",
    "from IPython.display import display\n",
    "from ipywidgets import Button, Layout, jslink, IntText, IntSlider, TwoByTwoLayout, AppLayout\n",
    "\n",
    "# def create_expanded_button(description, button_style):\n",
    "#     return Button(description=description, button_style=button_style, layout=Layout(height='auto', width='auto'))\n",
    "\n",
    "\n",
    "# header_button = create_expanded_button(\"<h1>CPSC 547 - Project Demo - 27th Nov 2019</h1></br><h3>Kevin, Mona, Jeffrey</h3>\", 'success')\n",
    "# left_button = create_expanded_button('Left', 'info')\n",
    "# center_button = create_expanded_button('Center', 'warning')\n",
    "# right_button = create_expanded_button('Right', 'info')\n",
    "# footer_button = create_expanded_button('Footer', 'success')\n",
    "\n",
    "genre_unique = {'Hip-Hop': 1, 'Pop': 2, 'Folk': 3, 'Experimental': 4, 'Rock': 5, 'International': 6, 'Electronic': 7, 'Instrumental': 8}"
   ]
  },
  {
   "cell_type": "code",
   "execution_count": 33,
   "metadata": {},
   "outputs": [
    {
     "data": {
      "application/vnd.jupyter.widget-view+json": {
       "model_id": "bc1d34404f0d4f9c942e02b98de63490",
       "version_major": 2,
       "version_minor": 0
      },
      "text/plain": [
       "HTML(value='', description='<h1>CPSC 547 - Project Demo - 27th Nov 2019</h1></br><h3>Kevin, Mona, Jeffrey</h3>…"
      ]
     },
     "metadata": {},
     "output_type": "display_data"
    },
    {
     "data": {
      "application/vnd.jupyter.widget-view+json": {
       "model_id": "7644c8ab976c401fb0fb65ecfeaa6c4c",
       "version_major": 2,
       "version_minor": 0
      },
      "text/plain": [
       "FileUpload(value={}, description='Upload song(s)', multiple=True)"
      ]
     },
     "metadata": {},
     "output_type": "display_data"
    },
    {
     "data": {
      "application/vnd.jupyter.widget-view+json": {
       "model_id": "a045fb5bf180400d8b673d79b3e06c8c",
       "version_major": 2,
       "version_minor": 0
      },
      "text/plain": [
       "Select(description='Songs:', options=(), value=None)"
      ]
     },
     "metadata": {},
     "output_type": "display_data"
    },
    {
     "data": {
      "application/vnd.jupyter.widget-view+json": {
       "model_id": "a0133ba6be9f41a99c7368b1b610b93c",
       "version_major": 2,
       "version_minor": 0
      },
      "text/plain": [
       "Text(value='Selected', description='Selected: ', disabled=True)"
      ]
     },
     "metadata": {},
     "output_type": "display_data"
    },
    {
     "data": {
      "application/vnd.jupyter.widget-view+json": {
       "model_id": "4c2731f211ac4c2ea3750d21466e2e5e",
       "version_major": 2,
       "version_minor": 0
      },
      "text/plain": [
       "ToggleButtons(description='Model:', options=('CNN', 'RNN', 'SVC', 'Random Forest'), value='CNN')"
      ]
     },
     "metadata": {},
     "output_type": "display_data"
    },
    {
     "data": {
      "application/vnd.jupyter.widget-view+json": {
       "model_id": "c1571ea7a96645a4b2e67d5ab160febb",
       "version_major": 2,
       "version_minor": 0
      },
      "text/plain": [
       "Text(value='3', description='Convolution layers: ')"
      ]
     },
     "metadata": {},
     "output_type": "display_data"
    },
    {
     "data": {
      "application/vnd.jupyter.widget-view+json": {
       "model_id": "57f2a69b0cd2470aaa4260a7f1fce7a2",
       "version_major": 2,
       "version_minor": 0
      },
      "text/plain": [
       "Text(value='2', description='Pooling layers: ')"
      ]
     },
     "metadata": {},
     "output_type": "display_data"
    },
    {
     "data": {
      "application/vnd.jupyter.widget-view+json": {
       "model_id": "e63198070fec462887963b9f4aae9895",
       "version_major": 2,
       "version_minor": 0
      },
      "text/plain": [
       "ToggleButtons(description='Iterations:', options=('1', '5', '10', '20', '50'), value='1')"
      ]
     },
     "metadata": {},
     "output_type": "display_data"
    },
    {
     "data": {
      "application/vnd.jupyter.widget-view+json": {
       "model_id": "c865f87753f84381a57139694467026b",
       "version_major": 2,
       "version_minor": 0
      },
      "text/plain": [
       "Button(button_style='success', description='Run model', icon='check', style=ButtonStyle(), tooltip='Click to r…"
      ]
     },
     "metadata": {},
     "output_type": "display_data"
    },
    {
     "data": {
      "application/vnd.jupyter.widget-view+json": {
       "model_id": "edda1a3098124b4abe2b8db39d99c57c",
       "version_major": 2,
       "version_minor": 0
      },
      "text/plain": [
       "Output()"
      ]
     },
     "metadata": {},
     "output_type": "display_data"
    }
   ],
   "source": [
    "# layout = widgets.Layout(width='100px')\n",
    "style = {'description_width': '80%'}\n",
    "## HEADER for DEMO\n",
    "header = widgets.HTML(\n",
    "            description=\"<h1>CPSC 547 - Project Demo - 27th Nov 2019</h1></br><h3>Kevin, Mona, Jeffrey</h3>\",\n",
    "            style=style)\n",
    "display(header)\n",
    "\n",
    "## Song upload button\n",
    "song_upload = widgets.FileUpload(\n",
    "    accept='',  # Accepted file extension e.g. '.txt', '.pdf', 'image/*', 'image/*,.pdf'\n",
    "    multiple=True,  # True to accept multiple files upload else False\n",
    "    description=\"Upload song(s)\"\n",
    ")\n",
    "output = widgets.Output()\n",
    "display(song_upload)\n",
    "\n",
    "def on_value_change_songs(change):\n",
    "    with output:\n",
    "#         print(song_upload.value.keys())\n",
    "        new = []\n",
    "        for i in song_upload.value.keys():\n",
    "            new.append(i)\n",
    "        songs.options = new\n",
    "        \n",
    "def on_value_change_selected(change):\n",
    "    with output:\n",
    "#         print(song_upload.value.keys())\n",
    "        select = songs.value\n",
    "        selected.value = select\n",
    "        \n",
    "def on_value_change_model(change):\n",
    "    with output:\n",
    "#         print(song_upload.value.keys())\n",
    "        select = songs.value\n",
    "        selected.value = select\n",
    "\n",
    "## Run model based on chosen song and model\n",
    "## Input model here\n",
    "def run_model(b):\n",
    "    o = [2]\n",
    "    with output:\n",
    "        print(\"Selected song: \"+str(songs.value))\n",
    "        print(\"Selected model: \"+str(model.value))\n",
    "        print(\"Number of iterations: \"+str(iterations.value))\n",
    "        print(\"Running model......\")\n",
    "        display(results)\n",
    "        display(result)\n",
    "    \n",
    "        \n",
    "##Song selection box\n",
    "songs = widgets.Select(\n",
    "    options=[],\n",
    "    # rows=10,\n",
    "    description='Songs:',\n",
    "    disabled=False\n",
    ")\n",
    "display(songs)\n",
    "\n",
    "##Selected song display\n",
    "selected = widgets.Text(\n",
    "    value = 'Selected',\n",
    "    disabled = True,\n",
    "    description = \"Selected: \")\n",
    "\n",
    "display(selected)\n",
    "\n",
    "\n",
    "#Select model to run on\n",
    "model = widgets.ToggleButtons(\n",
    "    options=['CNN', 'RNN', 'SVC', 'Random Forest'],\n",
    "    description='Model:',\n",
    "    disabled=False,\n",
    "    button_style='', # 'success', 'info', 'warning', 'danger' or '',\n",
    "#     icons=['check'] * 3\n",
    ")\n",
    "\n",
    "display(model)\n",
    "#################################################################\n",
    "##TODO : Change input parameters based on model chosen\n",
    "##Input parameters based on selected model\n",
    "first_param = widgets.Text(\n",
    "    value = '3',\n",
    "    description = \"Convolution layers: \")\n",
    "\n",
    "display(first_param)\n",
    "\n",
    "##Input parameters based on selected model\n",
    "second_param = widgets.Text(\n",
    "    value = '2',\n",
    "    description = \"Pooling layers: \")\n",
    "\n",
    "display(second_param)\n",
    "\n",
    "#################################################################\n",
    "\n",
    "\n",
    "#Select how many times to run the model\n",
    "iterations = widgets.ToggleButtons(\n",
    "    options=['1', '5', '10', '20', '50'],\n",
    "    description='Iterations:',\n",
    "    disabled=False,\n",
    "    button_style='', # 'success', 'info', 'warning', 'danger' or '',\n",
    "#     icons=['check'] * 3\n",
    ")\n",
    "\n",
    "display(iterations)\n",
    "\n",
    "#Button to run model\n",
    "run_model_button = widgets.Button(\n",
    "    description='Run model',\n",
    "    button_style='success', # 'success', 'info', 'warning', 'danger' or ''\n",
    "    tooltip='Click to run model',\n",
    "    icon='check'\n",
    ")\n",
    "\n",
    "display(run_model_button,output)\n",
    "\n",
    "#Display results\n",
    "#Results will be returned in a form of an array\n",
    "\n",
    "style2 = {'description_width': '50%'}\n",
    "\n",
    "results = widgets.HTML(\n",
    "    description=\"<h1> Results </h1></br><h3>Result for classifying: \"+ str(songs.value)+\"</h3>\",\n",
    "    value=\"\",\n",
    "    style=style2\n",
    ")\n",
    "\n",
    "result = widgets.HTML(\n",
    "    description=\"<p></p>\",\n",
    "    value=\"\",\n",
    "    style=style2\n",
    ")\n",
    "        \n",
    "        \n",
    "\n",
    "song_upload.observe(on_value_change_songs, names='value')\n",
    "songs.observe(on_value_change_selected, names='value')\n",
    "# model.observe(on_value_change_model, names='value')\n",
    "run_model_button.on_click(run_model)\n",
    "# for i in song_upload.value.keys():\n",
    "#     print(i)"
   ]
  },
  {
   "cell_type": "code",
   "execution_count": 32,
   "metadata": {},
   "outputs": [
    {
     "data": {
      "text/plain": [
       "dict_values([1, 2, 3, 4, 5, 6, 7, 8])"
      ]
     },
     "execution_count": 32,
     "metadata": {},
     "output_type": "execute_result"
    }
   ],
   "source": [
    "genre_unique.values()"
   ]
  },
  {
   "cell_type": "code",
   "execution_count": 11,
   "metadata": {},
   "outputs": [
    {
     "data": {
      "text/plain": [
       "bytes"
      ]
     },
     "execution_count": 11,
     "metadata": {},
     "output_type": "execute_result"
    }
   ],
   "source": [
    "type(song_upload.value['song2.mp3']['content'])\n",
    "    "
   ]
  },
  {
   "cell_type": "code",
   "execution_count": 23,
   "metadata": {},
   "outputs": [
    {
     "ename": "PermissionError",
     "evalue": "[Errno 13] Permission denied: 'C:\\\\Users\\\\JEFFRE~1\\\\AppData\\\\Local\\\\Temp\\\\tmph86rr5oy.wav'",
     "output_type": "error",
     "traceback": [
      "\u001b[1;31m---------------------------------------------------------------------------\u001b[0m",
      "\u001b[1;31mPermissionError\u001b[0m                           Traceback (most recent call last)",
      "\u001b[1;32m<ipython-input-23-02ff5f01d5bf>\u001b[0m in \u001b[0;36m<module>\u001b[1;34m\u001b[0m\n\u001b[0;32m      6\u001b[0m \u001b[1;33m\u001b[0m\u001b[0m\n\u001b[0;32m      7\u001b[0m \u001b[0msong\u001b[0m \u001b[1;33m=\u001b[0m \u001b[0mAudioSegment\u001b[0m\u001b[1;33m.\u001b[0m\u001b[0mfrom_file\u001b[0m\u001b[1;33m(\u001b[0m\u001b[0mio\u001b[0m\u001b[1;33m.\u001b[0m\u001b[0mBytesIO\u001b[0m\u001b[1;33m(\u001b[0m\u001b[0mdata\u001b[0m\u001b[1;33m)\u001b[0m\u001b[1;33m,\u001b[0m \u001b[0mformat\u001b[0m\u001b[1;33m=\u001b[0m\u001b[1;34m\"mp3\"\u001b[0m\u001b[1;33m)\u001b[0m\u001b[1;33m\u001b[0m\u001b[1;33m\u001b[0m\u001b[0m\n\u001b[1;32m----> 8\u001b[1;33m \u001b[0mplay\u001b[0m\u001b[1;33m(\u001b[0m\u001b[0msong\u001b[0m\u001b[1;33m)\u001b[0m\u001b[1;33m\u001b[0m\u001b[1;33m\u001b[0m\u001b[0m\n\u001b[0m",
      "\u001b[1;32m~\\Anaconda3\\lib\\site-packages\\pydub\\playback.py\u001b[0m in \u001b[0;36mplay\u001b[1;34m(audio_segment)\u001b[0m\n\u001b[0;32m     69\u001b[0m         \u001b[1;32mreturn\u001b[0m\u001b[1;33m\u001b[0m\u001b[1;33m\u001b[0m\u001b[0m\n\u001b[0;32m     70\u001b[0m \u001b[1;33m\u001b[0m\u001b[0m\n\u001b[1;32m---> 71\u001b[1;33m     \u001b[0m_play_with_ffplay\u001b[0m\u001b[1;33m(\u001b[0m\u001b[0maudio_segment\u001b[0m\u001b[1;33m)\u001b[0m\u001b[1;33m\u001b[0m\u001b[1;33m\u001b[0m\u001b[0m\n\u001b[0m",
      "\u001b[1;32m~\\Anaconda3\\lib\\site-packages\\pydub\\playback.py\u001b[0m in \u001b[0;36m_play_with_ffplay\u001b[1;34m(seg)\u001b[0m\n\u001b[0;32m     16\u001b[0m \u001b[1;32mdef\u001b[0m \u001b[0m_play_with_ffplay\u001b[0m\u001b[1;33m(\u001b[0m\u001b[0mseg\u001b[0m\u001b[1;33m)\u001b[0m\u001b[1;33m:\u001b[0m\u001b[1;33m\u001b[0m\u001b[1;33m\u001b[0m\u001b[0m\n\u001b[0;32m     17\u001b[0m     \u001b[1;32mwith\u001b[0m \u001b[0mNamedTemporaryFile\u001b[0m\u001b[1;33m(\u001b[0m\u001b[1;34m\"w+b\"\u001b[0m\u001b[1;33m,\u001b[0m \u001b[0msuffix\u001b[0m\u001b[1;33m=\u001b[0m\u001b[1;34m\".wav\"\u001b[0m\u001b[1;33m)\u001b[0m \u001b[1;32mas\u001b[0m \u001b[0mf\u001b[0m\u001b[1;33m:\u001b[0m\u001b[1;33m\u001b[0m\u001b[1;33m\u001b[0m\u001b[0m\n\u001b[1;32m---> 18\u001b[1;33m         \u001b[0mseg\u001b[0m\u001b[1;33m.\u001b[0m\u001b[0mexport\u001b[0m\u001b[1;33m(\u001b[0m\u001b[0mf\u001b[0m\u001b[1;33m.\u001b[0m\u001b[0mname\u001b[0m\u001b[1;33m,\u001b[0m \u001b[1;34m\"wav\"\u001b[0m\u001b[1;33m)\u001b[0m\u001b[1;33m\u001b[0m\u001b[1;33m\u001b[0m\u001b[0m\n\u001b[0m\u001b[0;32m     19\u001b[0m         \u001b[0msubprocess\u001b[0m\u001b[1;33m.\u001b[0m\u001b[0mcall\u001b[0m\u001b[1;33m(\u001b[0m\u001b[1;33m[\u001b[0m\u001b[0mPLAYER\u001b[0m\u001b[1;33m,\u001b[0m \u001b[1;34m\"-nodisp\"\u001b[0m\u001b[1;33m,\u001b[0m \u001b[1;34m\"-autoexit\"\u001b[0m\u001b[1;33m,\u001b[0m \u001b[1;34m\"-hide_banner\"\u001b[0m\u001b[1;33m,\u001b[0m \u001b[0mf\u001b[0m\u001b[1;33m.\u001b[0m\u001b[0mname\u001b[0m\u001b[1;33m]\u001b[0m\u001b[1;33m)\u001b[0m\u001b[1;33m\u001b[0m\u001b[1;33m\u001b[0m\u001b[0m\n\u001b[0;32m     20\u001b[0m \u001b[1;33m\u001b[0m\u001b[0m\n",
      "\u001b[1;32m~\\Anaconda3\\lib\\site-packages\\pydub\\audio_segment.py\u001b[0m in \u001b[0;36mexport\u001b[1;34m(self, out_f, format, codec, bitrate, parameters, tags, id3v2_version, cover)\u001b[0m\n\u001b[0;32m    778\u001b[0m         \u001b[0mid3v2_allowed_versions\u001b[0m \u001b[1;33m=\u001b[0m \u001b[1;33m[\u001b[0m\u001b[1;34m'3'\u001b[0m\u001b[1;33m,\u001b[0m \u001b[1;34m'4'\u001b[0m\u001b[1;33m]\u001b[0m\u001b[1;33m\u001b[0m\u001b[1;33m\u001b[0m\u001b[0m\n\u001b[0;32m    779\u001b[0m \u001b[1;33m\u001b[0m\u001b[0m\n\u001b[1;32m--> 780\u001b[1;33m         \u001b[0mout_f\u001b[0m \u001b[1;33m=\u001b[0m \u001b[0m_fd_or_path_or_tempfile\u001b[0m\u001b[1;33m(\u001b[0m\u001b[0mout_f\u001b[0m\u001b[1;33m,\u001b[0m \u001b[1;34m'wb+'\u001b[0m\u001b[1;33m)\u001b[0m\u001b[1;33m\u001b[0m\u001b[1;33m\u001b[0m\u001b[0m\n\u001b[0m\u001b[0;32m    781\u001b[0m         \u001b[0mout_f\u001b[0m\u001b[1;33m.\u001b[0m\u001b[0mseek\u001b[0m\u001b[1;33m(\u001b[0m\u001b[1;36m0\u001b[0m\u001b[1;33m)\u001b[0m\u001b[1;33m\u001b[0m\u001b[1;33m\u001b[0m\u001b[0m\n\u001b[0;32m    782\u001b[0m \u001b[1;33m\u001b[0m\u001b[0m\n",
      "\u001b[1;32m~\\Anaconda3\\lib\\site-packages\\pydub\\utils.py\u001b[0m in \u001b[0;36m_fd_or_path_or_tempfile\u001b[1;34m(fd, mode, tempfile)\u001b[0m\n\u001b[0;32m     55\u001b[0m \u001b[1;33m\u001b[0m\u001b[0m\n\u001b[0;32m     56\u001b[0m     \u001b[1;32mif\u001b[0m \u001b[0misinstance\u001b[0m\u001b[1;33m(\u001b[0m\u001b[0mfd\u001b[0m\u001b[1;33m,\u001b[0m \u001b[0mbasestring\u001b[0m\u001b[1;33m)\u001b[0m\u001b[1;33m:\u001b[0m\u001b[1;33m\u001b[0m\u001b[1;33m\u001b[0m\u001b[0m\n\u001b[1;32m---> 57\u001b[1;33m         \u001b[0mfd\u001b[0m \u001b[1;33m=\u001b[0m \u001b[0mopen\u001b[0m\u001b[1;33m(\u001b[0m\u001b[0mfd\u001b[0m\u001b[1;33m,\u001b[0m \u001b[0mmode\u001b[0m\u001b[1;33m=\u001b[0m\u001b[0mmode\u001b[0m\u001b[1;33m)\u001b[0m\u001b[1;33m\u001b[0m\u001b[1;33m\u001b[0m\u001b[0m\n\u001b[0m\u001b[0;32m     58\u001b[0m \u001b[1;33m\u001b[0m\u001b[0m\n\u001b[0;32m     59\u001b[0m     \u001b[1;32mtry\u001b[0m\u001b[1;33m:\u001b[0m\u001b[1;33m\u001b[0m\u001b[1;33m\u001b[0m\u001b[0m\n",
      "\u001b[1;31mPermissionError\u001b[0m: [Errno 13] Permission denied: 'C:\\\\Users\\\\JEFFRE~1\\\\AppData\\\\Local\\\\Temp\\\\tmph86rr5oy.wav'"
     ]
    }
   ],
   "source": [
    "##TODO : READ MP3 FILE\n",
    "## Tried to convert bytes to mp3 using this. But permission denied\n",
    "# from pydub import AudioSegment\n",
    "# from pydub.playback import play\n",
    "# import io\n",
    "\n",
    "# data = song_upload.value['song2.mp3']['content']\n",
    "\n",
    "# song = AudioSegment.from_file(io.BytesIO(data), format=\"mp3\")\n",
    "# play(song)"
   ]
  },
  {
   "cell_type": "code",
   "execution_count": 12,
   "metadata": {},
   "outputs": [],
   "source": [
    "# a1 = AppLayout(header=header,\n",
    "#           left_sidebar=song_upload,\n",
    "#           center=songs,\n",
    "#           right_sidebar=selected,\n",
    "#           footer=model)\n",
    "\n",
    "# a2 = AppLayout(header=header_button,\n",
    "#           left_sidebar=left_button,\n",
    "#           center=center_button,\n",
    "#           right_sidebar=right_button,\n",
    "#           footer=footer_button)"
   ]
  },
  {
   "cell_type": "code",
   "execution_count": 13,
   "metadata": {},
   "outputs": [],
   "source": [
    "# display(a1)"
   ]
  },
  {
   "cell_type": "code",
   "execution_count": null,
   "metadata": {},
   "outputs": [],
   "source": []
  }
 ],
 "metadata": {
  "kernelspec": {
   "display_name": "Python 3",
   "language": "python",
   "name": "python3"
  },
  "language_info": {
   "codemirror_mode": {
    "name": "ipython",
    "version": 3
   },
   "file_extension": ".py",
   "mimetype": "text/x-python",
   "name": "python",
   "nbconvert_exporter": "python",
   "pygments_lexer": "ipython3",
   "version": "3.7.3"
  }
 },
 "nbformat": 4,
 "nbformat_minor": 2
}
