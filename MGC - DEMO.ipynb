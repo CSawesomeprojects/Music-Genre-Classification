{
 "cells": [
  {
   "cell_type": "code",
   "execution_count": 60,
   "metadata": {},
   "outputs": [],
   "source": [
    "import ipywidgets as widgets\n",
    "from IPython.display import display\n",
    "from ipywidgets import Button, Layout, jslink, IntText, IntSlider, TwoByTwoLayout, AppLayout, Audio\n",
    "import librosa\n",
    "import librosa.display\n",
    "import os\n",
    "import numpy as np\n",
    "\n",
    "# def create_expanded_button(description, button_style):\n",
    "#     return Button(description=description, button_style=button_style, layout=Layout(height='auto', width='auto'))\n",
    "\n",
    "\n",
    "# header_button = create_expanded_button(\"<h1>CPSC 547 - Project Demo - 27th Nov 2019</h1></br><h3>Kevin, Mona, Jeffrey</h3>\", 'success')\n",
    "# left_button = create_expanded_button('Left', 'info')\n",
    "# center_button = create_expanded_button('Center', 'warning')\n",
    "# right_button = create_expanded_button('Right', 'info')\n",
    "# footer_button = create_expanded_button('Footer', 'success')\n",
    "\n",
    "genre_unique = {'Hip-Hop': 1, 'Pop': 2, 'Folk': 3, 'Experimental': 4, 'Rock': 5, 'International': 6, 'Electronic': 7, 'Instrumental': 8}"
   ]
  },
  {
   "cell_type": "code",
   "execution_count": 65,
   "metadata": {},
   "outputs": [
    {
     "data": {
      "application/vnd.jupyter.widget-view+json": {
       "model_id": "df29729c511440ef9f4552535dad5f26",
       "version_major": 2,
       "version_minor": 0
      },
      "text/plain": [
       "HTML(value='', description='<h1>CPSC 547 - Project Demo - 27th Nov 2019</h1></br><h3>Kevin, Mona, Jeffrey</h3>…"
      ]
     },
     "metadata": {},
     "output_type": "display_data"
    },
    {
     "data": {
      "application/vnd.jupyter.widget-view+json": {
       "model_id": "83cf455f90dc471b9e9e48033bc41f4c",
       "version_major": 2,
       "version_minor": 0
      },
      "text/plain": [
       "FileUpload(value={}, description='Upload song(s)', multiple=True)"
      ]
     },
     "metadata": {},
     "output_type": "display_data"
    },
    {
     "data": {
      "application/vnd.jupyter.widget-view+json": {
       "model_id": "2636b330ccde4625859d0683299d235a",
       "version_major": 2,
       "version_minor": 0
      },
      "text/plain": [
       "Select(description='Songs:', options=(), value=None)"
      ]
     },
     "metadata": {},
     "output_type": "display_data"
    },
    {
     "data": {
      "application/vnd.jupyter.widget-view+json": {
       "model_id": "6f1e0b73fe59469280f27d3377470869",
       "version_major": 2,
       "version_minor": 0
      },
      "text/plain": [
       "Text(value='Selected', description='Selected: ', disabled=True)"
      ]
     },
     "metadata": {},
     "output_type": "display_data"
    },
    {
     "data": {
      "application/vnd.jupyter.widget-view+json": {
       "model_id": "1fd44022502d445c942e590b41710d01",
       "version_major": 2,
       "version_minor": 0
      },
      "text/plain": [
       "Audio(value=b'')"
      ]
     },
     "metadata": {},
     "output_type": "display_data"
    },
    {
     "data": {
      "application/vnd.jupyter.widget-view+json": {
       "model_id": "4efcd9c29d3a420aada23b1e30fe2eda",
       "version_major": 2,
       "version_minor": 0
      },
      "text/plain": [
       "HTML(value='')"
      ]
     },
     "metadata": {},
     "output_type": "display_data"
    },
    {
     "data": {
      "application/vnd.jupyter.widget-view+json": {
       "model_id": "609feffb62894cf89d92b9364d4edab4",
       "version_major": 2,
       "version_minor": 0
      },
      "text/plain": [
       "ToggleButtons(button_style='info', description='Model:', options=('CNN', 'RNN', 'SVC', 'Random Forest'), value…"
      ]
     },
     "metadata": {},
     "output_type": "display_data"
    },
    {
     "data": {
      "application/vnd.jupyter.widget-view+json": {
       "model_id": "4dcdd7b255fe4501a85fa2137e3c3a1c",
       "version_major": 2,
       "version_minor": 0
      },
      "text/plain": [
       "Text(value='3', description='Convolution layers: ')"
      ]
     },
     "metadata": {},
     "output_type": "display_data"
    },
    {
     "data": {
      "application/vnd.jupyter.widget-view+json": {
       "model_id": "36bc54b0835f4dd38430bd3af65cf904",
       "version_major": 2,
       "version_minor": 0
      },
      "text/plain": [
       "Text(value='2', description='Pooling layers: ')"
      ]
     },
     "metadata": {},
     "output_type": "display_data"
    },
    {
     "data": {
      "application/vnd.jupyter.widget-view+json": {
       "model_id": "85f921a7f9cf49aa888d95a0962dff18",
       "version_major": 2,
       "version_minor": 0
      },
      "text/plain": [
       "ToggleButtons(button_style='warning', description='Iterations:', options=('1', '5', '10', '20', '50'), value='…"
      ]
     },
     "metadata": {},
     "output_type": "display_data"
    },
    {
     "data": {
      "application/vnd.jupyter.widget-view+json": {
       "model_id": "a8ac9aa0a795456792a05789b7c4545d",
       "version_major": 2,
       "version_minor": 0
      },
      "text/plain": [
       "Button(button_style='success', description='Run model', icon='check', style=ButtonStyle(), tooltip='Click to r…"
      ]
     },
     "metadata": {},
     "output_type": "display_data"
    },
    {
     "data": {
      "application/vnd.jupyter.widget-view+json": {
       "model_id": "dde618f52097424ba5cd0fbfab8e09e6",
       "version_major": 2,
       "version_minor": 0
      },
      "text/plain": [
       "Output()"
      ]
     },
     "metadata": {},
     "output_type": "display_data"
    }
   ],
   "source": [
    "# layout = widgets.Layout(width='100px')\n",
    "style = {'description_width': '80%'}\n",
    "## HEADER for DEMO\n",
    "header = widgets.HTML(\n",
    "            description=\"<h1>CPSC 547 - Project Demo - 27th Nov 2019</h1></br><h3>Kevin, Mona, Jeffrey</h3>\",\n",
    "            style=style)\n",
    "display(header)\n",
    "\n",
    "## Song upload button\n",
    "song_upload = widgets.FileUpload(\n",
    "    accept='',  # Accepted file extension e.g. '.txt', '.pdf', 'image/*', 'image/*,.pdf'\n",
    "    multiple=True,  # True to accept multiple files upload else False\n",
    "    description=\"Upload song(s)\"\n",
    ")\n",
    "output = widgets.Output()\n",
    "display(song_upload)\n",
    "\n",
    "def on_value_change_songs(change):\n",
    "    with output:\n",
    "#         print(song_upload.value.keys())\n",
    "        new = []\n",
    "        for i in song_upload.value.keys():\n",
    "            new.append(i)\n",
    "        songs.options = new\n",
    "        \n",
    "def on_value_change_selected(change):\n",
    "    with output:\n",
    "#         print(song_upload.value.keys())\n",
    "        select = songs.value\n",
    "        selected.value = select\n",
    "        filename = selected.value\n",
    "        v = song_upload.value[songs.value]['content']\n",
    "        audio.value = v\n",
    "        data, sr = librosa.load(filename)\n",
    "        s = np.size(data)/sr\n",
    "        audio_info.value = \"<h4>File loaded: \"+filename+\"</h4><h5>Audio sampling rate: \"+str(sr)+\" samples/sec</h5><h5>Total samples: \"+str(np.size(data))+\"</h5><h5>Audio length: \"+str(s)+\" s</h5>\"\n",
    "        \n",
    "# def on_value_change_song(change):\n",
    "#     with output:\n",
    "# #       ##Play audio\n",
    "#         v = song_upload.value[songs.value]['content']\n",
    "#         audio.value = v\n",
    "\n",
    "# #         display(audio, output)\n",
    "        \n",
    "def on_value_change_model(change):\n",
    "    with output:\n",
    "#         print(song_upload.value.keys())\n",
    "        select = songs.value\n",
    "        selected.value = select\n",
    "\n",
    "## Run model based on chosen song and model\n",
    "## Input model here\n",
    "def run_model(b):\n",
    "    with output:\n",
    "        print(\"Selected song: \"+str(songs.value))\n",
    "        print(\"Selected model: \"+str(model.value))\n",
    "        print(\"Number of iterations: \"+str(iterations.value))\n",
    "        print(\"Running model......\")\n",
    "        display(result_header)\n",
    "        ##########Once the model is finished running, change the results in the view here\n",
    "        predicted_value = 0\n",
    "        display(result)\n",
    "    \n",
    "        \n",
    "##Song selection box\n",
    "songs = widgets.Select(\n",
    "    options=[],\n",
    "    # rows=10,\n",
    "    description='Songs:',\n",
    "    disabled=False\n",
    ")\n",
    "display(songs)\n",
    "\n",
    "##Selected song display\n",
    "selected = widgets.Text(\n",
    "    value = 'Selected',\n",
    "    disabled = True,\n",
    "    description = \"Selected: \")\n",
    "\n",
    "display(selected)\n",
    "\n",
    "##Play audio\n",
    "audio = widgets.Audio()\n",
    "\n",
    "display(audio)\n",
    "\n",
    "audio_info = widgets.HTML()\n",
    "\n",
    "display(audio_info)\n",
    "\n",
    "\n",
    "#Select model to run on\n",
    "model = widgets.ToggleButtons(\n",
    "    options=['CNN', 'RNN', 'SVC', 'Random Forest'],\n",
    "    description='Model:',\n",
    "    disabled=False,\n",
    "    button_style='info', # 'success', 'info', 'warning', 'danger' or '',\n",
    "#     icons=['check'] * 3\n",
    ")\n",
    "\n",
    "display(model)\n",
    "#################################################################\n",
    "##TODO : Change input parameters based on model chosen\n",
    "##Input parameters based on selected model\n",
    "first_param = widgets.Text(\n",
    "    value = '3',\n",
    "    description = \"Convolution layers: \")\n",
    "\n",
    "display(first_param)\n",
    "\n",
    "##Input parameters based on selected model\n",
    "second_param = widgets.Text(\n",
    "    value = '2',\n",
    "    description = \"Pooling layers: \")\n",
    "\n",
    "display(second_param)\n",
    "\n",
    "#################################################################\n",
    "\n",
    "\n",
    "#Select how many times to run the model\n",
    "iterations = widgets.ToggleButtons(\n",
    "    options=['1', '5', '10', '20', '50'],\n",
    "    description='Iterations:',\n",
    "    disabled=False,\n",
    "    button_style='warning', # 'success', 'info', 'warning', 'danger' or '',\n",
    "#     icons=['check'] * 3\n",
    ")\n",
    "\n",
    "display(iterations)\n",
    "\n",
    "#Button to run model\n",
    "run_model_button = widgets.Button(\n",
    "    description='Run model',\n",
    "    button_style='success', # 'success', 'info', 'warning', 'danger' or ''\n",
    "    tooltip='Click to run model',\n",
    "    icon='check'\n",
    ")\n",
    "\n",
    "display(run_model_button,output)\n",
    "\n",
    "#Display results\n",
    "#Results will be returned in a form of an array\n",
    "\n",
    "style2 = {'description_width': '10%'}\n",
    "\n",
    "result_header = widgets.HTML(\n",
    "    description=\"<h1> Results </h1>\",\n",
    "    value=\"\",\n",
    "    style=style2\n",
    ")\n",
    "\n",
    "##Display of actual predicted results\n",
    "result = widgets.HTML(\n",
    "        value=\"<h4>Predicted genre: Rock</h4><h5>Top 5 predicted genres:</h5><h5>Rock : 95%</h5><h5>Hip-hop: 60%</h5><h5>Instrumental: 40%</h5><h5>Folk: 20%</h5><h5>Soul: 19%</h5>\")\n",
    "        \n",
    "        \n",
    "\n",
    "song_upload.observe(on_value_change_songs, names='value')\n",
    "songs.observe(on_value_change_selected, names='value')\n",
    "# model.observe(on_value_change_model, names='value')\n",
    "run_model_button.on_click(run_model)\n",
    "# audio.observe(on_value_change_song, names='value')\n",
    "# for i in song_upload.value.keys():\n",
    "#     print(i)"
   ]
  },
  {
   "cell_type": "code",
   "execution_count": null,
   "metadata": {},
   "outputs": [],
   "source": []
  },
  {
   "cell_type": "code",
   "execution_count": 66,
   "metadata": {},
   "outputs": [],
   "source": [
    "# type(song_upload.value['song2.mp3']['content'])\n",
    "    "
   ]
  },
  {
   "cell_type": "code",
   "execution_count": null,
   "metadata": {},
   "outputs": [],
   "source": []
  },
  {
   "cell_type": "code",
   "execution_count": null,
   "metadata": {},
   "outputs": [],
   "source": []
  },
  {
   "cell_type": "code",
   "execution_count": null,
   "metadata": {},
   "outputs": [],
   "source": []
  },
  {
   "cell_type": "code",
   "execution_count": null,
   "metadata": {},
   "outputs": [],
   "source": []
  },
  {
   "cell_type": "code",
   "execution_count": null,
   "metadata": {},
   "outputs": [],
   "source": []
  },
  {
   "cell_type": "code",
   "execution_count": 41,
   "metadata": {},
   "outputs": [],
   "source": []
  },
  {
   "cell_type": "code",
   "execution_count": 43,
   "metadata": {},
   "outputs": [],
   "source": []
  },
  {
   "cell_type": "code",
   "execution_count": 52,
   "metadata": {},
   "outputs": [
    {
     "data": {
      "text/plain": [
       "bytes"
      ]
     },
     "execution_count": 52,
     "metadata": {},
     "output_type": "execute_result"
    }
   ],
   "source": []
  },
  {
   "cell_type": "code",
   "execution_count": null,
   "metadata": {},
   "outputs": [],
   "source": []
  }
 ],
 "metadata": {
  "kernelspec": {
   "display_name": "Python 3",
   "language": "python",
   "name": "python3"
  },
  "language_info": {
   "codemirror_mode": {
    "name": "ipython",
    "version": 3
   },
   "file_extension": ".py",
   "mimetype": "text/x-python",
   "name": "python",
   "nbconvert_exporter": "python",
   "pygments_lexer": "ipython3",
   "version": "3.7.3"
  }
 },
 "nbformat": 4,
 "nbformat_minor": 2
}
